{
 "cells": [
  {
   "cell_type": "code",
   "execution_count": 1,
   "id": "e5f84c91-fb70-419e-b634-f4458b3278d8",
   "metadata": {},
   "outputs": [],
   "source": [
    "import numpy as np\n",
    "import cv2\n",
    "import matplotlib.pyplot as plt\n",
    "from PIL import Image"
   ]
  },
  {
   "cell_type": "code",
   "execution_count": 2,
   "id": "513e8380-f138-494b-baf5-6678a6d433be",
   "metadata": {},
   "outputs": [],
   "source": [
    "def minMaxNormalized(img):\n",
    "    return cv2.normalize(img, None, 0, 1, cv2.NORM_MINMAX,dtype=cv2.CV_32F)"
   ]
  },
  {
   "cell_type": "code",
   "execution_count": 3,
   "id": "baae5f45",
   "metadata": {},
   "outputs": [],
   "source": [
    "def high_boost(img, low_contrast, A):\n",
    "    return ((A-1)*low_contrast + img)"
   ]
  },
  {
   "cell_type": "code",
   "execution_count": 30,
   "id": "f31efc24",
   "metadata": {},
   "outputs": [],
   "source": [
    "# return red, green and blue freq. domain\n",
    "def to_frequencyDomain(image): \n",
    "    '''Note: Don't forget the log1p so you can see the Magnitude'''\n",
    "    normalized     = minMaxNormalized(image)\n",
    "    norm_fft       = np.fft.fft2(normalized)\n",
    "    norm_fft_shift = np.fft.fftshift(norm_fft)\n",
    "    magnitude      = np.sqrt(norm_fft_shift.real ** 2 + norm_fft_shift.imag ** 2)\n",
    "    return norm_fft_shift, magnitude"
   ]
  },
  {
   "cell_type": "code",
   "execution_count": 45,
   "id": "2be1492a",
   "metadata": {},
   "outputs": [],
   "source": [
    "def to_spatialDomain(image):\n",
    "    image_ishift = np.fft.ifftshift(image)\n",
    "    image_ifft   = np.fft.ifft2(image_ishift)\n",
    "    image_real   = np.abs(image_ifft)\n",
    "    # denormlized  = image * 255\n",
    "    return image_real"
   ]
  },
  {
   "cell_type": "code",
   "execution_count": 5,
   "id": "8ee14f77",
   "metadata": {},
   "outputs": [],
   "source": [
    "def reduceSaltAndPeperNoise():\n",
    "    pass"
   ]
  },
  {
   "cell_type": "code",
   "execution_count": 6,
   "id": "bd13b467",
   "metadata": {},
   "outputs": [],
   "source": [
    "def reduceGaussianNoise():\n",
    "    pass"
   ]
  },
  {
   "cell_type": "code",
   "execution_count": null,
   "id": "9c85d49c",
   "metadata": {},
   "outputs": [],
   "source": [
    "#periodic noise..."
   ]
  },
  {
   "cell_type": "code",
   "execution_count": 7,
   "id": "455a9639",
   "metadata": {},
   "outputs": [],
   "source": [
    "# for one type of periodic noise. which type?\n",
    "def periodicNoiseFilter(shape, radius, center_x, center_y):\n",
    "    dimention1, dimention2 = shape\n",
    "    mask = np.zeros((dimention1, dimention2, 2))\n",
    "\n",
    "    for i in range(0, dimention1):\n",
    "        for item in range(0, dimention2):\n",
    "            radius_hat1 = np.sqrt((i - center_x) ** 2 + (item - center_y) ** 2)\n",
    "            radius_hat2 = np.sqrt((i - dimention1 + center_x) ** 2 + (item - dimention2 + center_y) ** 2)\n",
    "\n",
    "            if radius_hat1 <= radius or radius_hat2 <= radius:\n",
    "                mask[i, item] = 0.0\n",
    "            else:\n",
    "                mask[i, item] = 1.0\n",
    "    return mask"
   ]
  },
  {
   "cell_type": "code",
   "execution_count": 8,
   "id": "a16d1f80",
   "metadata": {},
   "outputs": [],
   "source": [
    "# maybe we need this function. negative of above function. return just periodic noise\n",
    "def find_noise(shape, radius, center_x, center_y):\n",
    "    dimention1, dimention2 = shape\n",
    "    mask = np.zeros((dimention1, dimention2, 2))\n",
    "\n",
    "    for i in range(0, dimention1):\n",
    "        for item in range(0, dimention2):\n",
    "            radius_hat1 = np.sqrt((i - center_x) ** 2 + (item - center_y) ** 2)\n",
    "            radius_hat2 = np.sqrt((i - dimention1 + center_x) ** 2 + (item - dimention2 + center_y) ** 2)\n",
    "\n",
    "            if radius_hat1 <= radius or radius_hat2 <= radius:\n",
    "                mask[i, item] = 1.0\n",
    "            else:\n",
    "                mask[i, item] = 0.0\n",
    "    return mask"
   ]
  },
  {
   "cell_type": "code",
   "execution_count": 9,
   "id": "5c64c421",
   "metadata": {},
   "outputs": [],
   "source": [
    "# maybe we need this function\n",
    "def psnr(original_image, reconstructed_image):\n",
    "    original_image      = original_image.astype(np.float64)\n",
    "    reconstructed_image = reconstructed_image.astype(np.float64)\n",
    "\n",
    "    mse = np.mean((original_image - reconstructed_image) ** 2)\n",
    "\n",
    "    if mse == 0:\n",
    "        return float('inf')\n",
    "\n",
    "    max_pixel_value = 255 \n",
    "    psnr = 10 * np.log10((max_pixel_value ** 2) / mse)\n",
    "    return psnr"
   ]
  },
  {
   "cell_type": "code",
   "execution_count": 10,
   "id": "44bbf931",
   "metadata": {},
   "outputs": [],
   "source": [
    "#input: BGR image\n",
    "def equalizeHistForColorImages (img):\n",
    "    img_yuv = cv2.cvtColor(img, cv2.COLOR_BGR2YUV)\n",
    "    img_yuv[:, :, 0] = cv2.equalizeHist(img_yuv[:, :, 0])\n",
    "    return cv2.cvtColor(img_yuv, cv2.COLOR_YUV2BGR)"
   ]
  },
  {
   "cell_type": "code",
   "execution_count": null,
   "id": "366f39a7",
   "metadata": {},
   "outputs": [],
   "source": []
  }
 ],
 "metadata": {
  "kernelspec": {
   "display_name": "Python 3",
   "language": "python",
   "name": "python3"
  },
  "language_info": {
   "codemirror_mode": {
    "name": "ipython",
    "version": 3
   },
   "file_extension": ".py",
   "mimetype": "text/x-python",
   "name": "python",
   "nbconvert_exporter": "python",
   "pygments_lexer": "ipython3",
   "version": "3.11.2"
  }
 },
 "nbformat": 4,
 "nbformat_minor": 5
}
