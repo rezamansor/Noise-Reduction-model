{
  "cells": [
    {
      "cell_type": "code",
      "execution_count": 4,
      "id": "KeXLAJ89GYEz",
      "metadata": {
        "id": "KeXLAJ89GYEz"
      },
      "outputs": [],
      "source": [
        "# !pip install bm3d\n",
        "import bm3d"
      ]
    },
    {
      "cell_type": "code",
      "execution_count": 5,
      "id": "e5f84c91-fb70-419e-b634-f4458b3278d8",
      "metadata": {
        "id": "e5f84c91-fb70-419e-b634-f4458b3278d8"
      },
      "outputs": [],
      "source": [
        "import numpy as np\n",
        "import cv2\n",
        "import matplotlib.pyplot as plt\n",
        "import pandas as pd\n",
        "import os\n",
        "from PIL import Image"
      ]
    },
    {
      "cell_type": "code",
      "execution_count": 6,
      "id": "513e8380-f138-494b-baf5-6678a6d433be",
      "metadata": {
        "id": "513e8380-f138-494b-baf5-6678a6d433be"
      },
      "outputs": [],
      "source": [
        "def minMaxNormalized(image):\n",
        "    return cv2.normalize(image, None, 0, 1, cv2.NORM_MINMAX,dtype=cv2.CV_32F)"
      ]
    },
    {
      "cell_type": "code",
      "execution_count": 7,
      "id": "098c838f",
      "metadata": {
        "id": "098c838f"
      },
      "outputs": [],
      "source": [
        "def colorSeparator(image_rgb):\n",
        "    r = image_rgb[:,:,0]\n",
        "    g = image_rgb[:,:,1]\n",
        "    b = image_rgb[:,:,2]\n",
        "    return r, g, b"
      ]
    },
    {
      "cell_type": "code",
      "execution_count": 9,
      "id": "f31efc24",
      "metadata": {
        "id": "f31efc24"
      },
      "outputs": [],
      "source": [
        "# return red, green and blue freq. domain\n",
        "def to_frequencyDomainGray(gray_img):\n",
        "    normalized     = gray_img#minMaxNormalized(gray_img)\n",
        "    norm_fft       = np.fft.fft2(normalized)\n",
        "    norm_fft_shift = np.fft.fftshift(norm_fft)\n",
        "    return norm_fft_shift\n",
        "\n",
        "def to_frequencyDomain(image):\n",
        "    r,g,b = colorSeparator(image)\n",
        "    r_fftshft = to_frequencyDomainGray(r)\n",
        "    b_fftshft = to_frequencyDomainGray(b)\n",
        "    g_fftshft = to_frequencyDomainGray(g)\n",
        "    return r_fftshft, b_fftshft, g_fftshft\n",
        "\n",
        "def magnitudeLog(img):\n",
        "    mag = np.sqrt(img.real ** 2 + img.imag ** 2)\n",
        "    return np.log1p(mag)"
      ]
    },
    {
      "cell_type": "code",
      "execution_count": 10,
      "id": "2be1492a",
      "metadata": {
        "id": "2be1492a"
      },
      "outputs": [],
      "source": [
        "def to_spatialDomain(image):\n",
        "    image_ishift = np.fft.ifftshift(image)\n",
        "    image_ifft   = np.fft.ifft2(image_ishift)\n",
        "    image_real   = np.abs(image_ifft)\n",
        "    # denormlized  = image * 255\n",
        "    return image_real"
      ]
    },
    {
      "cell_type": "code",
      "execution_count": 11,
      "id": "8ee14f77",
      "metadata": {
        "id": "8ee14f77"
      },
      "outputs": [],
      "source": [
        "def reduceSaltAndPeperNoise(image, kernel=3):\n",
        "    image = np.array(image)\n",
        "    median_filtered = cv2.medianBlur(image, kernel)\n",
        "    return Image.fromarray(median_filtered)"
      ]
    },
    {
      "cell_type": "code",
      "execution_count": 12,
      "id": "bd13b467",
      "metadata": {
        "id": "bd13b467"
      },
      "outputs": [],
      "source": [
        "#use bm3d method. before use this function make sure install package. (pip3 install bm3d)\n",
        "def reduceGaussianNoise(image, sigma=20/255):\n",
        "    image     = np.array(image)\n",
        "    image_rgb = cv2.cvtColor(image, cv2.COLOR_BGR2RGB)\n",
        "    R, G, B   = cv2.split(image_rgb)\n",
        "\n",
        "    R_denoised = bm3d.bm3d(R / 255.0, sigma) * 255\n",
        "    G_denoised = bm3d.bm3d(G / 255.0, sigma) * 255\n",
        "    B_denoised = bm3d.bm3d(B / 255.0, sigma) * 255\n",
        "\n",
        "    image_denoised = cv2.merge((R_denoised, G_denoised, B_denoised))\n",
        "    image_denoised = np.clip(image_denoised, 0, 255).astype(np.uint8)\n",
        "\n",
        "    image_denoised = cv2.cvtColor(image_denoised, cv2.COLOR_RGB2BGR)\n",
        "\n",
        "    return image_denoised"
      ]
    },
    {
      "cell_type": "code",
      "execution_count": 13,
      "id": "9c85d49c",
      "metadata": {
        "id": "9c85d49c"
      },
      "outputs": [],
      "source": [
        "def reducePeriodicNoise(image):\n",
        "    pass"
      ]
    },
    {
      "cell_type": "code",
      "execution_count": 16,
      "id": "5c64c421",
      "metadata": {
        "id": "5c64c421"
      },
      "outputs": [],
      "source": [
        "# maybe we need this function\n",
        "def psnr(original_image, reconstructed_image):\n",
        "    original_image      = np.array(original_image, dtype=np.float64) \n",
        "    reconstructed_image = np.array(reconstructed_image, dtype=np.float64) \n",
        "\n",
        "    mse = np.mean((original_image - reconstructed_image) ** 2)\n",
        "\n",
        "    if mse == 0:\n",
        "        return float('inf')\n",
        "\n",
        "    max_pixel_value = 255\n",
        "    psnr = 10 * np.log10((max_pixel_value ** 2) / mse)\n",
        "    return psnr"
      ]
    },
    {
      "cell_type": "code",
      "execution_count": 18,
      "id": "2d13090d",
      "metadata": {
        "id": "2d13090d"
      },
      "outputs": [],
      "source": [
        "import torch\n",
        "import torch.nn as nn\n",
        "import torch.optim as optim\n",
        "import torchvision.transforms as transforms\n",
        "from torch.utils.data import Dataset, DataLoader, random_split"
      ]
    },
    {
      "cell_type": "code",
      "execution_count": 19,
      "id": "fUwC2sCWYWgF",
      "metadata": {
        "colab": {
          "base_uri": "https://localhost:8080/"
        },
        "id": "fUwC2sCWYWgF",
        "outputId": "1debdfc7-4bd6-41a3-8b66-05f3285e1b30"
      },
      "outputs": [
        {
          "name": "stdout",
          "output_type": "stream",
          "text": [
            "Mounted at /content/drive2\n"
          ]
        }
      ],
      "source": [
        "from google.colab import drive\n",
        "drive.mount('/content/drive2')"
      ]
    },
    {
      "cell_type": "code",
      "execution_count": 20,
      "id": "Pq2unNVfsggo",
      "metadata": {
        "id": "Pq2unNVfsggo"
      },
      "outputs": [],
      "source": [
        "from pathlib import Path\n",
        "\n",
        "class NoiseDataset(Dataset):\n",
        "    def __init__(self, csv_file, img_dir, transform=None):\n",
        "        self.data       = pd.read_csv(csv_file)\n",
        "        self.img_dir    = img_dir\n",
        "        self.transform  = transform\n",
        "        self.label_map  = {\"Salt & Pepper\": 0, \"Gaussian\": 1, \"Periodic\": 2}\n",
        "        self.valid_data = self._filter_valid_images()\n",
        "\n",
        "    def _filter_valid_images(self):\n",
        "        valid_rows = []\n",
        "        for idx in range(len(self.data)):\n",
        "            img_path = Path(self.img_dir) / self.data.iloc[idx, 0]\n",
        "            if img_path.exists():  # بررسی اینکه آیا تصویر موجود است\n",
        "                valid_rows.append(self.data.iloc[idx])\n",
        "        return pd.DataFrame(valid_rows)\n",
        "\n",
        "    def __len__(self):\n",
        "        return len(self.valid_data)\n",
        "\n",
        "    def __getitem__(self, idx):\n",
        "        img_name = os.path.join(self.img_dir, self.valid_data.iloc[idx, 0])\n",
        "        image = Image.open(img_name).convert(\"RGB\")\n",
        "        label = self.label_map[self.valid_data.iloc[idx, 1]]\n",
        "\n",
        "        if self.transform:\n",
        "            image = self.transform(image)\n",
        "\n",
        "        return image, label"
      ]
    },
    {
      "cell_type": "code",
      "execution_count": 21,
      "id": "wX8__H70-uIr",
      "metadata": {
        "id": "wX8__H70-uIr"
      },
      "outputs": [],
      "source": [
        "transform = transforms.Compose([\n",
        "    transforms.Resize((256, 192)),\n",
        "    transforms.RandomHorizontalFlip(),\n",
        "    transforms.ColorJitter(brightness=0.2, contrast=0.2),\n",
        "    transforms.ToTensor(),\n",
        "    transforms.Normalize(mean=[0.5, 0.5, 0.5], std=[0.5, 0.5, 0.5])\n",
        "])\n",
        "\n",
        "# ایجاد دیتاست\n",
        "csv_path = \"/content/drive/MyDrive/Colab Notebooks/Labels.csv\"\n",
        "img_dir  = \"/content/drive/MyDrive/Colab Notebooks/Noisy\"\n",
        "full_dataset = NoiseDataset(csv_path, img_dir, transform=transform)\n",
        "\n",
        "# تقسیم ۸۰٪ آموزش و ۲۰٪ تست\n",
        "train_size = int(0.8 * len(full_dataset))\n",
        "test_size  = len(full_dataset) - train_size\n",
        "train_dataset, test_dataset = random_split(full_dataset, [train_size, test_size])\n",
        "\n",
        "# DataLoader ها\n",
        "train_loader = DataLoader(train_dataset, batch_size=64, shuffle=True)\n",
        "test_loader  = DataLoader(test_dataset, batch_size=32, shuffle=False)"
      ]
    },
    {
      "cell_type": "code",
      "execution_count": 22,
      "id": "uDijK1fl_rx2",
      "metadata": {
        "id": "uDijK1fl_rx2"
      },
      "outputs": [],
      "source": [
        "class CNNModel(nn.Module): #CNN definition\n",
        "    def __init__(self):\n",
        "        super(CNNModel, self).__init__()\n",
        "        self.conv1 = nn.Conv2d(3, 16, kernel_size=3, padding=1)\n",
        "        self.conv2 = nn.Conv2d(16, 32, kernel_size=3, padding=1)\n",
        "        self.conv3 = nn.Conv2d(32, 64, kernel_size=3, padding=1)\n",
        "        self.pool  = nn.MaxPool2d(2, 2)\n",
        "        self.fc1   = nn.Linear(64 * 32 * 24, 128)\n",
        "        self.fc2   = nn.Linear(128, 3)\n",
        "        self.relu  = nn.ReLU()\n",
        "\n",
        "    def forward(self, x):\n",
        "        x = self.pool(self.relu(self.conv1(x)))\n",
        "        x = self.pool(self.relu(self.conv2(x)))\n",
        "        x = self.pool(self.relu(self.conv3(x)))\n",
        "\n",
        "        x = x.view(x.size(0), -1)\n",
        "        x = self.relu(self.fc1(x))\n",
        "        x = self.fc2(x)\n",
        "        return x"
      ]
    },
    {
      "cell_type": "code",
      "execution_count": 23,
      "id": "byf7QDDQAPph",
      "metadata": {
        "id": "byf7QDDQAPph"
      },
      "outputs": [],
      "source": [
        "device    = torch.device(\"cuda\" if torch.cuda.is_available() else \"cpu\")\n",
        "model     = CNNModel().to(device)\n",
        "criterion = nn.CrossEntropyLoss()\n",
        "\n",
        "optimizer = optim.Adam(model.parameters(), lr=0.0005, weight_decay=1e-4)"
      ]
    },
    {
      "cell_type": "code",
      "execution_count": 26,
      "id": "N2Qw1cvMC-8o",
      "metadata": {
        "colab": {
          "base_uri": "https://localhost:8080/"
        },
        "id": "N2Qw1cvMC-8o",
        "outputId": "5fb3e3e6-6bae-406c-8cec-592a22864140"
      },
      "outputs": [
        {
          "name": "stdout",
          "output_type": "stream",
          "text": [
            "Epoch 1, Loss: 0.1325, Train Acc: 96.75%\n",
            "Epoch 2, Loss: 0.1417, Train Acc: 95.83%\n",
            "Epoch 3, Loss: 0.1319, Train Acc: 96.82%\n",
            "Epoch 4, Loss: 0.1324, Train Acc: 95.89%\n",
            "Epoch 5, Loss: 0.1366, Train Acc: 95.89%\n",
            "Epoch 6, Loss: 0.1277, Train Acc: 96.16%\n",
            "Epoch 7, Loss: 0.1429, Train Acc: 96.56%\n",
            "Epoch 8, Loss: 0.1340, Train Acc: 96.42%\n",
            "Epoch 9, Loss: 0.1358, Train Acc: 96.69%\n",
            "Epoch 10, Loss: 0.1458, Train Acc: 95.56%\n",
            "Epoch 11, Loss: 0.1406, Train Acc: 96.36%\n",
            "Epoch 12, Loss: 0.1343, Train Acc: 96.16%\n",
            "Epoch 13, Loss: 0.1319, Train Acc: 96.56%\n",
            "Epoch 14, Loss: 0.1409, Train Acc: 96.09%\n",
            "Epoch 15, Loss: 0.1337, Train Acc: 96.36%\n"
          ]
        }
      ],
      "source": [
        "#train model\n",
        "epochs    = 15\n",
        "scheduler = torch.optim.lr_scheduler.StepLR(optimizer, step_size=10, gamma=0.1)\n",
        "\n",
        "for epoch in range(epochs):\n",
        "    model.train()\n",
        "    running_loss = 0.0\n",
        "    correct      = 0\n",
        "    total        = 0\n",
        "\n",
        "    for images, labels in train_loader:\n",
        "        images, labels = images.to(device), labels.to(device)\n",
        "\n",
        "        optimizer.zero_grad()\n",
        "        outputs = model(images)\n",
        "        loss = criterion(outputs, labels)\n",
        "        loss.backward()\n",
        "        optimizer.step()\n",
        "\n",
        "        # calcute prediction\n",
        "        _, predicted = torch.max(outputs, 1)\n",
        "        total   += labels.size(0)\n",
        "        correct += (predicted == labels).sum().item()\n",
        "\n",
        "        running_loss += loss.item()\n",
        "\n",
        "    scheduler.step()\n",
        "\n",
        "    train_acc = 100 * correct / total\n",
        "    print(f\"Epoch {epoch+1}, Loss: {running_loss/len(train_loader):.4f}, Train Acc: {train_acc:.2f}%\")\n"
      ]
    },
    {
      "cell_type": "code",
      "execution_count": 27,
      "id": "8JmnWH1585zb",
      "metadata": {
        "colab": {
          "base_uri": "https://localhost:8080/"
        },
        "id": "8JmnWH1585zb",
        "outputId": "7b038ad8-8a9f-466d-8e14-07cb89321861"
      },
      "outputs": [
        {
          "name": "stdout",
          "output_type": "stream",
          "text": [
            "Accuracy: 87.50%\n"
          ]
        }
      ],
      "source": [
        "from sklearn.metrics import accuracy_score, precision_score, recall_score, f1_score, confusion_matrix\n",
        "\n",
        "model.eval()\n",
        "y_true = []\n",
        "y_pred = []\n",
        "\n",
        "with torch.no_grad():\n",
        "    for images, labels in test_loader:\n",
        "        images, labels = images.to(device), labels.to(device)\n",
        "        outputs = model(images)\n",
        "        _, predicted = torch.max(outputs, 1)\n",
        "\n",
        "        y_true.extend(labels.cpu().numpy())  # تبدیل به لیست برای sklearn\n",
        "        y_pred.extend(predicted.cpu().numpy())\n",
        "\n",
        "# محاسبه معیارهای ارزیابی\n",
        "accuracy    = accuracy_score  (y_true, y_pred)\n",
        "precision   = precision_score (y_true, y_pred, average=\"weighted\")\n",
        "recall      = recall_score    (y_true, y_pred, average=\"weighted\")\n",
        "f1          = f1_score        (y_true, y_pred, average=\"weighted\")\n",
        "conf_matrix = confusion_matrix(y_true, y_pred)\n",
        "\n",
        "# محاسبه Specificity\n",
        "tn = conf_matrix[0][0]  # True Negative\n",
        "fp = conf_matrix[0][1]  # False Positive\n",
        "specificity = tn / (tn + fp) if (tn + fp) != 0 else 0  # جلوگیری از تقسیم بر صفر\n",
        "\n",
        "# نمایش نتایج\n",
        "print(f\"Accuracy: {accuracy:.2f}\")\n",
        "print(f\"Precision: {precision:.2f}\")\n",
        "print(f\"Recall: {recall:.2f}\")\n",
        "print(f\"Specificity: {specificity:.2f}\")\n",
        "print(f\"F1-Score: {f1:.2f}\")\n",
        "print(\"Confusion Matrix:\")\n",
        "print(conf_matrix)"
      ]
    },
    {
      "cell_type": "code",
      "execution_count": 25,
      "id": "UXNFmjuNeYs2",
      "metadata": {
        "id": "UXNFmjuNeYs2"
      },
      "outputs": [],
      "source": [
        "# کلاس‌های نویز\n",
        "class_labels = [\"Salt & Pepper\", \"Gaussian\", \"Periodic\"]\n",
        "\n",
        "# مسیر پوشه ورودی (تصاویر تست) و خروجی (تصاویر فیلتر شده)\n",
        "image_folder       = \"/content/drive/MyDrive/Colab Notebooks/Test\" #NoisyTest\n",
        "output_folder      = \"/content/drive/MyDrive/Colab Notebooks/filtered_images\" \n",
        "clean_image_folder = \"/content/drive/MyDrive/Colab Notebooks/Clean\" #Without-NoisyTest\n",
        "\n",
        "# اگر پوشه خروجی وجود ندارد، ایجاد شود\n",
        "os.makedirs(output_folder, exist_ok=True)\n",
        "\n",
        "\n",
        "# مقداردهی اولیه لیست برای ذخیره مقادیر PSNR\n",
        "psnr_values = []\n",
        "\n",
        "for img_name in os.listdir(image_folder):\n",
        "    img_path = os.path.join(image_folder, img_name)\n",
        "    image    = Image.open(img_path).convert(\"RGB\")  # خواندن تصویر و تبدیل به RGB\n",
        "    image_tensor = transform(image)  # پیش‌پردازش\n",
        "    image_tensor = image_tensor.unsqueeze(0).to(device)  # اضافه کردن بعد batch و ارسال به GPU/CPU\n",
        "\n",
        "    # پیش‌بینی مدل\n",
        "    with torch.no_grad():\n",
        "        output       = model(image_tensor)\n",
        "        _, predicted = torch.max(output, 1)  # پیدا کردن کلاس با بالاترین احتمال\n",
        "\n",
        "    predicted_label  = class_labels[predicted.item()]\n",
        "\n",
        "    # انتخاب فیلتر مناسب بر اساس نوع نویز پیش‌بینی شده\n",
        "    if predicted_label == \"Salt & Pepper\":\n",
        "        filtered_image = reduceSaltAndPeperNoise(image)\n",
        "    elif predicted_label == \"Gaussian\":\n",
        "        filtered_image = reduceGaussianNoise(image)\n",
        "    elif predicted_label == \"Periodic\":\n",
        "        filtered_image = reducePeriodicNoise(image)\n",
        "\n",
        "    # مسیر ذخیره تصویر فیلتر شده\n",
        "    output_path = os.path.join(output_folder, img_name)\n",
        "    filtered_image.save(output_path)\n",
        "\n",
        "    # بررسی اینکه آیا تصویر اصلی (clean) موجود است یا نه\n",
        "    original_path = os.path.join(clean_image_folder, img_name)\n",
        "    if os.path.exists(original_path):\n",
        "        original_image = Image.open(original_path).convert(\"RGB\")\n",
        "        psnr_value = psnr(original_image, filtered_image)  # محاسبه PSNR\n",
        "        psnr_values.append(psnr_value)  # ذخیره مقدار PSNR در لیست\n",
        "\n",
        "# محاسبه و نمایش میانگین PSNR\n",
        "if psnr_values:\n",
        "    mean_psnr = np.mean(psnr_values)\n",
        "    print(f\"میانگین PSNR برای تمام تصاویر: {mean_psnr:.2f} dB\")\n",
        "else:\n",
        "    print(\"هیچ مقدار PSNR محاسبه نشد!\")"
      ]
    }
  ],
  "metadata": {
    "accelerator": "GPU",
    "colab": {
      "gpuType": "T4",
      "provenance": []
    },
    "kernelspec": {
      "display_name": "myenv",
      "language": "python",
      "name": "python3"
    },
    "language_info": {
      "codemirror_mode": {
        "name": "ipython",
        "version": 3
      },
      "file_extension": ".py",
      "mimetype": "text/x-python",
      "name": "python",
      "nbconvert_exporter": "python",
      "pygments_lexer": "ipython3",
      "version": "3.11.2"
    }
  },
  "nbformat": 4,
  "nbformat_minor": 5
}
