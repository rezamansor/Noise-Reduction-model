{
 "cells": [
  {
   "cell_type": "code",
   "execution_count": 1,
   "id": "e5f84c91-fb70-419e-b634-f4458b3278d8",
   "metadata": {},
   "outputs": [],
   "source": [
    "import numpy as np\n",
    "import cv2\n",
    "import matplotlib.pyplot as plt\n",
    "from PIL import Image\n",
    "import bm3d"
   ]
  },
  {
   "cell_type": "code",
   "execution_count": 2,
   "id": "513e8380-f138-494b-baf5-6678a6d433be",
   "metadata": {},
   "outputs": [],
   "source": [
    "def minMaxNormalized(img):\n",
    "    return cv2.normalize(img, None, 0, 1, cv2.NORM_MINMAX,dtype=cv2.CV_32F)"
   ]
  },
  {
   "cell_type": "code",
   "execution_count": 3,
   "id": "098c838f",
   "metadata": {},
   "outputs": [],
   "source": [
    "def colorSeparator(image_rgb):\n",
    "    r = image_rgb[:,:,0]\n",
    "    g = image_rgb[:,:,1]\n",
    "    b = image_rgb[:,:,2]\n",
    "    return r, g, b"
   ]
  },
  {
   "cell_type": "code",
   "execution_count": 4,
   "id": "baae5f45",
   "metadata": {},
   "outputs": [],
   "source": [
    "def high_boost(img, low_contrast, A):\n",
    "    return ((A-1)*low_contrast + img)"
   ]
  },
  {
   "cell_type": "code",
   "execution_count": 5,
   "id": "f31efc24",
   "metadata": {},
   "outputs": [],
   "source": [
    "# return red, green and blue freq. domain\n",
    "def to_frequencyDomainGray(gray_img):\n",
    "    normalized     = minMaxNormalized(gray_img)\n",
    "    norm_fft       = np.fft.fft2(normalized)\n",
    "    norm_fft_shift = np.fft.fftshift(norm_fft)\n",
    "    return norm_fft_shift\n",
    "\n",
    "def to_frequencyDomain(image): \n",
    "    r,g,b = colorSeparator(image)\n",
    "    r_fftshft = to_frequencyDomainGray(r)\n",
    "    b_fftshft = to_frequencyDomainGray(b)\n",
    "    g_fftshft = to_frequencyDomainGray(g)\n",
    "    return r_fftshft, b_fftshft, g_fftshft\n",
    "\n",
    "def magnitudeLog(img):\n",
    "    mag = np.sqrt(img.real ** 2 + img.imag ** 2)\n",
    "    return np.log1p(mag)"
   ]
  },
  {
   "cell_type": "code",
   "execution_count": 6,
   "id": "2be1492a",
   "metadata": {},
   "outputs": [],
   "source": [
    "def to_spatialDomain(image):\n",
    "    image_ishift = np.fft.ifftshift(image)\n",
    "    image_ifft   = np.fft.ifft2(image_ishift)\n",
    "    image_real   = np.abs(image_ifft)\n",
    "    # denormlized  = image * 255\n",
    "    return image_real"
   ]
  },
  {
   "cell_type": "code",
   "execution_count": 7,
   "id": "8ee14f77",
   "metadata": {},
   "outputs": [],
   "source": [
    "def reduceSaltAndPeperNoise(image, kernel=3):\n",
    "    median_filtered = cv2.medianBlur(image, kernel)\n",
    "    return median_filtered"
   ]
  },
  {
   "cell_type": "code",
   "execution_count": 19,
   "id": "bd13b467",
   "metadata": {},
   "outputs": [],
   "source": [
    "#use bm3d method. before use this function make sure install package. (pip3 install bm3d)\n",
    "def reduceGaussianNoise(image, sigma=20/255):\n",
    "    image_rgb = cv2.cvtColor(image, cv2.COLOR_BGR2RGB)\n",
    "    R, G, B = cv2.split(image_rgb)\n",
    "\n",
    "    R_denoised = bm3d.bm3d(R / 255.0, sigma) * 255\n",
    "    G_denoised = bm3d.bm3d(G / 255.0, sigma) * 255\n",
    "    B_denoised = bm3d.bm3d(B / 255.0, sigma) * 255\n",
    "\n",
    "    image_denoised = cv2.merge((R_denoised, G_denoised, B_denoised))\n",
    "    image_denoised = np.clip(image_denoised, 0, 255).astype(np.uint8)\n",
    "\n",
    "    image_denoised = cv2.cvtColor(image_denoised, cv2.COLOR_RGB2BGR)\n",
    "    \n",
    "    return image_denoised"
   ]
  },
  {
   "cell_type": "code",
   "execution_count": 9,
   "id": "9c85d49c",
   "metadata": {},
   "outputs": [],
   "source": [
    "#periodic noise..."
   ]
  },
  {
   "cell_type": "code",
   "execution_count": 10,
   "id": "455a9639",
   "metadata": {},
   "outputs": [],
   "source": [
    "# for one type of periodic noise. which type?\n",
    "def NotchFilter(shape, radius, center_x, center_y):\n",
    "    dimention1, dimention2 = shape\n",
    "    mask = np.zeros((dimention1, dimention2, 2))\n",
    "\n",
    "    for i in range(0, dimention1):\n",
    "        for item in range(0, dimention2):\n",
    "            radius_hat1 = np.sqrt((i - center_x) ** 2 + (item - center_y) ** 2)\n",
    "            radius_hat2 = np.sqrt((i - dimention1 + center_x) ** 2 + (item - dimention2 + center_y) ** 2)\n",
    "\n",
    "            if radius_hat1 <= radius or radius_hat2 <= radius:\n",
    "                mask[i, item] = 0.0\n",
    "            else:\n",
    "                mask[i, item] = 1.0\n",
    "    return mask"
   ]
  },
  {
   "cell_type": "code",
   "execution_count": 11,
   "id": "a16d1f80",
   "metadata": {},
   "outputs": [],
   "source": [
    "# maybe we need this function. negative of above function. return just periodic noise\n",
    "def negetiveNotchFilter(shape, radius, center_x, center_y):\n",
    "    dimention1, dimention2 = shape\n",
    "    mask = np.zeros((dimention1, dimention2, 2))\n",
    "\n",
    "    for i in range(0, dimention1):\n",
    "        for item in range(0, dimention2):\n",
    "            radius_hat1 = np.sqrt((i - center_x) ** 2 + (item - center_y) ** 2)\n",
    "            radius_hat2 = np.sqrt((i - dimention1 + center_x) ** 2 + (item - dimention2 + center_y) ** 2)\n",
    "\n",
    "            if radius_hat1 <= radius or radius_hat2 <= radius:\n",
    "                mask[i, item] = 1.0\n",
    "            else:\n",
    "                mask[i, item] = 0.0\n",
    "    return mask"
   ]
  },
  {
   "cell_type": "code",
   "execution_count": 12,
   "id": "5c64c421",
   "metadata": {},
   "outputs": [],
   "source": [
    "# maybe we need this function\n",
    "def psnr(original_image, reconstructed_image):\n",
    "    original_image      = original_image.astype(np.float64)\n",
    "    reconstructed_image = reconstructed_image.astype(np.float64)\n",
    "\n",
    "    mse = np.mean((original_image - reconstructed_image) ** 2)\n",
    "\n",
    "    if mse == 0:\n",
    "        return float('inf')\n",
    "\n",
    "    max_pixel_value = 255 \n",
    "    psnr = 10 * np.log10((max_pixel_value ** 2) / mse)\n",
    "    return psnr"
   ]
  },
  {
   "cell_type": "code",
   "execution_count": 13,
   "id": "44bbf931",
   "metadata": {},
   "outputs": [],
   "source": [
    "#input: BGR image\n",
    "def equalizeHistForColorImages (img):\n",
    "    img_yuv = cv2.cvtColor(img, cv2.COLOR_BGR2YUV)\n",
    "    img_yuv[:, :, 0] = cv2.equalizeHist(img_yuv[:, :, 0])\n",
    "    return cv2.cvtColor(img_yuv, cv2.COLOR_YUV2BGR)"
   ]
  },
  {
   "cell_type": "code",
   "execution_count": null,
   "id": "366f39a7",
   "metadata": {},
   "outputs": [],
   "source": []
  }
 ],
 "metadata": {
  "kernelspec": {
   "display_name": "Python 3 (ipykernel)",
   "language": "python",
   "name": "python3"
  },
  "language_info": {
   "codemirror_mode": {
    "name": "ipython",
    "version": 3
   },
   "file_extension": ".py",
   "mimetype": "text/x-python",
   "name": "python",
   "nbconvert_exporter": "python",
   "pygments_lexer": "ipython3",
   "version": "3.13.0"
  }
 },
 "nbformat": 4,
 "nbformat_minor": 5
}
